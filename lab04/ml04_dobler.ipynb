{
 "cells": [
  {
   "cell_type": "markdown",
   "metadata": {},
   "source": [
    "# **Titanic:** Predicting a Continuous Target with Regression"
   ]
  },
  {
   "cell_type": "markdown",
   "metadata": {},
   "source": [
    "### **Author:** Evan Dobler\n",
    "### **Date:** 4/15/2025\n",
    "### **Purpose:** Predict fare, the amount of money paid for the journey, using features in the Titanic dataset"
   ]
  },
  {
   "cell_type": "markdown",
   "metadata": {},
   "source": [
    "## Imports"
   ]
  },
  {
   "cell_type": "code",
   "execution_count": 40,
   "metadata": {},
   "outputs": [],
   "source": [
    "import seaborn as sns\n",
    "import pandas as pd\n",
    "import numpy as np\n",
    "import matplotlib.pyplot as plt\n",
    "\n",
    "from sklearn.model_selection import train_test_split\n",
    "from sklearn.linear_model import LinearRegression, Ridge, ElasticNet\n",
    "from sklearn.preprocessing import PolynomialFeatures\n",
    "from sklearn.metrics import mean_squared_error, mean_absolute_error, r2_score"
   ]
  },
  {
   "cell_type": "markdown",
   "metadata": {},
   "source": [
    "## Section 1. Import and Inspect the Data"
   ]
  },
  {
   "cell_type": "code",
   "execution_count": 41,
   "metadata": {},
   "outputs": [
    {
     "data": {
      "text/html": [
       "<div>\n",
       "<style scoped>\n",
       "    .dataframe tbody tr th:only-of-type {\n",
       "        vertical-align: middle;\n",
       "    }\n",
       "\n",
       "    .dataframe tbody tr th {\n",
       "        vertical-align: top;\n",
       "    }\n",
       "\n",
       "    .dataframe thead th {\n",
       "        text-align: right;\n",
       "    }\n",
       "</style>\n",
       "<table border=\"1\" class=\"dataframe\">\n",
       "  <thead>\n",
       "    <tr style=\"text-align: right;\">\n",
       "      <th></th>\n",
       "      <th>survived</th>\n",
       "      <th>pclass</th>\n",
       "      <th>sex</th>\n",
       "      <th>age</th>\n",
       "      <th>sibsp</th>\n",
       "      <th>parch</th>\n",
       "      <th>fare</th>\n",
       "      <th>embarked</th>\n",
       "      <th>class</th>\n",
       "      <th>who</th>\n",
       "      <th>adult_male</th>\n",
       "      <th>deck</th>\n",
       "      <th>embark_town</th>\n",
       "      <th>alive</th>\n",
       "      <th>alone</th>\n",
       "    </tr>\n",
       "  </thead>\n",
       "  <tbody>\n",
       "    <tr>\n",
       "      <th>0</th>\n",
       "      <td>0</td>\n",
       "      <td>3</td>\n",
       "      <td>male</td>\n",
       "      <td>22.0</td>\n",
       "      <td>1</td>\n",
       "      <td>0</td>\n",
       "      <td>7.2500</td>\n",
       "      <td>S</td>\n",
       "      <td>Third</td>\n",
       "      <td>man</td>\n",
       "      <td>True</td>\n",
       "      <td>NaN</td>\n",
       "      <td>Southampton</td>\n",
       "      <td>no</td>\n",
       "      <td>False</td>\n",
       "    </tr>\n",
       "    <tr>\n",
       "      <th>1</th>\n",
       "      <td>1</td>\n",
       "      <td>1</td>\n",
       "      <td>female</td>\n",
       "      <td>38.0</td>\n",
       "      <td>1</td>\n",
       "      <td>0</td>\n",
       "      <td>71.2833</td>\n",
       "      <td>C</td>\n",
       "      <td>First</td>\n",
       "      <td>woman</td>\n",
       "      <td>False</td>\n",
       "      <td>C</td>\n",
       "      <td>Cherbourg</td>\n",
       "      <td>yes</td>\n",
       "      <td>False</td>\n",
       "    </tr>\n",
       "    <tr>\n",
       "      <th>2</th>\n",
       "      <td>1</td>\n",
       "      <td>3</td>\n",
       "      <td>female</td>\n",
       "      <td>26.0</td>\n",
       "      <td>0</td>\n",
       "      <td>0</td>\n",
       "      <td>7.9250</td>\n",
       "      <td>S</td>\n",
       "      <td>Third</td>\n",
       "      <td>woman</td>\n",
       "      <td>False</td>\n",
       "      <td>NaN</td>\n",
       "      <td>Southampton</td>\n",
       "      <td>yes</td>\n",
       "      <td>True</td>\n",
       "    </tr>\n",
       "    <tr>\n",
       "      <th>3</th>\n",
       "      <td>1</td>\n",
       "      <td>1</td>\n",
       "      <td>female</td>\n",
       "      <td>35.0</td>\n",
       "      <td>1</td>\n",
       "      <td>0</td>\n",
       "      <td>53.1000</td>\n",
       "      <td>S</td>\n",
       "      <td>First</td>\n",
       "      <td>woman</td>\n",
       "      <td>False</td>\n",
       "      <td>C</td>\n",
       "      <td>Southampton</td>\n",
       "      <td>yes</td>\n",
       "      <td>False</td>\n",
       "    </tr>\n",
       "    <tr>\n",
       "      <th>4</th>\n",
       "      <td>0</td>\n",
       "      <td>3</td>\n",
       "      <td>male</td>\n",
       "      <td>35.0</td>\n",
       "      <td>0</td>\n",
       "      <td>0</td>\n",
       "      <td>8.0500</td>\n",
       "      <td>S</td>\n",
       "      <td>Third</td>\n",
       "      <td>man</td>\n",
       "      <td>True</td>\n",
       "      <td>NaN</td>\n",
       "      <td>Southampton</td>\n",
       "      <td>no</td>\n",
       "      <td>True</td>\n",
       "    </tr>\n",
       "  </tbody>\n",
       "</table>\n",
       "</div>"
      ],
      "text/plain": [
       "   survived  pclass     sex   age  sibsp  parch     fare embarked  class  \\\n",
       "0         0       3    male  22.0      1      0   7.2500        S  Third   \n",
       "1         1       1  female  38.0      1      0  71.2833        C  First   \n",
       "2         1       3  female  26.0      0      0   7.9250        S  Third   \n",
       "3         1       1  female  35.0      1      0  53.1000        S  First   \n",
       "4         0       3    male  35.0      0      0   8.0500        S  Third   \n",
       "\n",
       "     who  adult_male deck  embark_town alive  alone  \n",
       "0    man        True  NaN  Southampton    no  False  \n",
       "1  woman       False    C    Cherbourg   yes  False  \n",
       "2  woman       False  NaN  Southampton   yes   True  \n",
       "3  woman       False    C  Southampton   yes  False  \n",
       "4    man        True  NaN  Southampton    no   True  "
      ]
     },
     "execution_count": 41,
     "metadata": {},
     "output_type": "execute_result"
    }
   ],
   "source": [
    "# Load Titanic dataset from seaborn and verify\n",
    "titanic = sns.load_dataset(\"titanic\")\n",
    "titanic.head()"
   ]
  },
  {
   "cell_type": "markdown",
   "metadata": {},
   "source": [
    "## Section 2. Data Exploration and Preparation"
   ]
  },
  {
   "cell_type": "code",
   "execution_count": 42,
   "metadata": {},
   "outputs": [
    {
     "name": "stderr",
     "output_type": "stream",
     "text": [
      "/var/folders/xp/3f251dhj78s5s9_f5cfcvyzr0000gn/T/ipykernel_66738/1712063472.py:1: FutureWarning: A value is trying to be set on a copy of a DataFrame or Series through chained assignment using an inplace method.\n",
      "The behavior will change in pandas 3.0. This inplace method will never work because the intermediate object on which we are setting values always behaves as a copy.\n",
      "\n",
      "For example, when doing 'df[col].method(value, inplace=True)', try using 'df.method({col: value}, inplace=True)' or df[col] = df[col].method(value) instead, to perform the operation inplace on the original object.\n",
      "\n",
      "\n",
      "  titanic['age'].fillna(titanic['age'].median(), inplace=True)\n"
     ]
    }
   ],
   "source": [
    "titanic['age'].fillna(titanic['age'].median(), inplace=True)\n",
    "\n",
    "titanic = titanic.dropna(subset=['fare'])\n",
    "\n",
    "titanic['family_size'] = titanic['sibsp'] + titanic['parch'] + 1"
   ]
  },
  {
   "cell_type": "markdown",
   "metadata": {},
   "source": [
    "## Section 3. Feature Selection and Justification"
   ]
  },
  {
   "cell_type": "markdown",
   "metadata": {},
   "source": [
    "Case 1. age only"
   ]
  },
  {
   "cell_type": "code",
   "execution_count": 43,
   "metadata": {},
   "outputs": [],
   "source": [
    "# Case 1. age\n",
    "X1 = titanic[['age']]\n",
    "y1 = titanic['fare']"
   ]
  },
  {
   "cell_type": "markdown",
   "metadata": {},
   "source": [
    "Case 2. family_size only"
   ]
  },
  {
   "cell_type": "code",
   "execution_count": 44,
   "metadata": {},
   "outputs": [],
   "source": [
    "# Case 2. family_size\n",
    "X2 = titanic[['family_size']]\n",
    "y2 = titanic['fare']"
   ]
  },
  {
   "cell_type": "markdown",
   "metadata": {},
   "source": [
    "Case 3. age and family size"
   ]
  },
  {
   "cell_type": "code",
   "execution_count": 45,
   "metadata": {},
   "outputs": [],
   "source": [
    "# Case 3. age, family_size\n",
    "X3 = titanic[['age', 'family_size']]\n",
    "y3 = titanic['fare']"
   ]
  },
  {
   "cell_type": "markdown",
   "metadata": {},
   "source": [
    "Case 4. sex"
   ]
  },
  {
   "cell_type": "code",
   "execution_count": 46,
   "metadata": {},
   "outputs": [],
   "source": [
    "# Case 4. ???\n",
    "X4 = titanic[['age', 'pclass']]\n",
    "y4 = titanic['fare']"
   ]
  },
  {
   "cell_type": "markdown",
   "metadata": {},
   "source": [
    "Why might these features affect a passenger’s fare: These features might affect a passenger's fare because like today's world, age at amusement parks, zoos, museums, etc., usually have price tiers for kids, adults, and seniors.\n",
    "\n",
    "List all available features: survived, pclass, sex, age, sibsp, parch, fare, embarked, class, who, adult_male,deck, embark_town, alive, alone, family_size\n",
    "\n",
    "Which other features could improve predictions and why: Other features that could improve predictions could be etnicity or occupation because these sometimes are related to social status which was a bigger deal back then.\n",
    "\n",
    "How many variables are in your Case 4: 2 variables.\n",
    "Which variable(s) did you choose for Case 4 and why do you feel those could make good inputs: I chose pclass and age because passengers in a more priority class may have survived at a higher rate."
   ]
  },
  {
   "cell_type": "markdown",
   "metadata": {},
   "source": [
    "## Section 4. Train a Regression Model (Linear Regression)"
   ]
  },
  {
   "cell_type": "markdown",
   "metadata": {},
   "source": [
    "#### 4.1 Split the Data"
   ]
  },
  {
   "cell_type": "code",
   "execution_count": 47,
   "metadata": {},
   "outputs": [],
   "source": [
    "X1_train, X1_test, y1_train, y1_test = train_test_split(X1, y1, test_size=0.2, random_state=123)\n",
    "\n",
    "X2_train, X2_test, y2_train, y2_test = train_test_split(X2, y2, test_size=0.2, random_state=123)\n",
    "\n",
    "X3_train, X3_test, y3_train, y3_test = train_test_split(X3, y3, test_size=0.2, random_state=123)\n",
    "\n",
    "X4_train, X4_test, y4_train, y4_test = train_test_split(X4, y4, test_size=0.2, random_state=123)"
   ]
  },
  {
   "cell_type": "markdown",
   "metadata": {},
   "source": [
    "4.2 Train and Evaluate Linear Regression Models (all 4 cases)"
   ]
  },
  {
   "cell_type": "code",
   "execution_count": 48,
   "metadata": {},
   "outputs": [
    {
     "name": "stdout",
     "output_type": "stream",
     "text": [
      "Case 1 (age):\n",
      "Training R²: 0.009950688019452203\n",
      "Test R²: 0.0034163395508416405\n",
      "\n",
      "Case 2 (family_size):\n",
      "Training R²: 0.04991579236476085\n",
      "Test R²: 0.02223118611013175\n",
      "\n",
      "Case 3 (age, family_size):\n",
      "Training R²: 0.07347466201590014\n",
      "Test R²: 0.04978483276307333\n",
      "\n",
      "Case 4 (pclass, age):\n",
      "Training R²: 0.30893458196174806\n",
      "Test R²: 0.3166169173431005\n"
     ]
    }
   ],
   "source": [
    "# Train linear regression models for all 4 cases\n",
    "lr_model1 = LinearRegression().fit(X1_train, y1_train)\n",
    "lr_model2 = LinearRegression().fit(X2_train, y2_train)\n",
    "lr_model3 = LinearRegression().fit(X3_train, y3_train)\n",
    "lr_model4 = LinearRegression().fit(X4_train, y4_train)\n",
    "\n",
    "# Predictions for each case\n",
    "y_pred_train1 = lr_model1.predict(X1_train)\n",
    "y_pred_test1 = lr_model1.predict(X1_test)\n",
    "\n",
    "y_pred_train2 = lr_model2.predict(X2_train)\n",
    "y_pred_test2 = lr_model2.predict(X2_test)\n",
    "\n",
    "y_pred_train3 = lr_model3.predict(X3_train)\n",
    "y_pred_test3 = lr_model3.predict(X3_test)\n",
    "\n",
    "y_pred_train4 = lr_model4.predict(X4_train)\n",
    "y_pred_test4 = lr_model4.predict(X4_test)\n",
    "\n",
    "print(\"Case 1 (age):\")\n",
    "print(f\"Training R²: {r2_score(y1_train, y_pred_train1)}\")\n",
    "print(f\"Test R²: {r2_score(y1_test, y_pred_test1)}\")\n",
    "\n",
    "print(\"\\nCase 2 (family_size):\")\n",
    "print(f\"Training R²: {r2_score(y2_train, y_pred_train2)}\")\n",
    "print(f\"Test R²: {r2_score(y2_test, y_pred_test2)}\")\n",
    "\n",
    "print(\"\\nCase 3 (age, family_size):\")\n",
    "print(f\"Training R²: {r2_score(y3_train, y_pred_train3)}\")\n",
    "print(f\"Test R²: {r2_score(y3_test, y_pred_test3)}\")\n",
    "\n",
    "print(\"\\nCase 4 (pclass, age):\")\n",
    "print(f\"Training R²: {r2_score(y4_train, y_pred_train4)}\")\n",
    "print(f\"Test R²: {r2_score(y4_test, y_pred_test4)}\")"
   ]
  },
  {
   "cell_type": "markdown",
   "metadata": {},
   "source": [
    "4.3 Report Performance"
   ]
  },
  {
   "cell_type": "code",
   "execution_count": 49,
   "metadata": {},
   "outputs": [
    {
     "name": "stdout",
     "output_type": "stream",
     "text": [
      "--- Case 1: Age Only ---\n",
      "Training R²: 0.009950688019452203\n",
      "Test R²: 0.0034163395508416405\n",
      "Test RMSE: 37.971641801729376\n",
      "Test MAE: 25.286372931623628\n",
      "------------------------------\n",
      "--- Case 2: Family Size Only ---\n",
      "Training R²: 0.04991579236476085\n",
      "Test R²: 0.02223118611013175\n",
      "Test RMSE: 37.61149400419671\n",
      "Test MAE: 25.02534815941642\n",
      "------------------------------\n",
      "--- Case 3: Age & Family Size ---\n",
      "Training R²: 0.07347466201590014\n",
      "Test R²: 0.04978483276307333\n",
      "Test RMSE: 37.077758664655896\n",
      "Test MAE: 24.28493503047068\n",
      "------------------------------\n",
      "--- Case 4: Age & Pclass ---\n",
      "Training R²: 0.30893458196174806\n",
      "Test R²: 0.3166169173431005\n",
      "Test RMSE: 31.443769640988414\n",
      "Test MAE: 20.703744560366548\n",
      "------------------------------\n"
     ]
    }
   ],
   "source": [
    "# Function to evaluate performance\n",
    "def evaluate_performance(X, y, case_name):\n",
    "    X_train, X_test, y_train, y_test = train_test_split(X, y, test_size=0.2, random_state=123)\n",
    "\n",
    "    # Train Linear Regression Model\n",
    "    lr_model = LinearRegression().fit(X_train, y_train)\n",
    "\n",
    "    # Predictions\n",
    "    y_pred_train = lr_model.predict(X_train)\n",
    "    y_pred_test = lr_model.predict(X_test)\n",
    "\n",
    "    # Evaluate Performance\n",
    "    print(f\"--- {case_name} ---\")\n",
    "    print(\"Training R²:\", r2_score(y_train, y_pred_train))\n",
    "    print(\"Test R²:\", r2_score(y_test, y_pred_test))\n",
    "    print(\"Test RMSE:\", mean_squared_error(y_test, y_pred_test) ** 0.5)\n",
    "    print(\"Test MAE:\", mean_absolute_error(y_test, y_pred_test))\n",
    "    print(\"-\" * 30)\n",
    "\n",
    "# Run evaluations for all cases\n",
    "evaluate_performance(X1, y1, \"Case 1: Age Only\")\n",
    "evaluate_performance(X2, y2, \"Case 2: Family Size Only\")\n",
    "evaluate_performance(X3, y3, \"Case 3: Age & Family Size\")\n",
    "evaluate_performance(X4, y4, \"Case 4: Age & Pclass\")"
   ]
  },
  {
   "cell_type": "markdown",
   "metadata": {},
   "source": [
    "Compare the train vs test results for each.\n",
    "\n",
    "Did Case 1 overfit or underfit? Explain: Underfit\n",
    "Did Case 2 overfit or underfit? Explain: Underfit\n",
    "Did Case 3 overfit or underfit? Explain: Slightly Underfit\n",
    "Did Case 4 overfit or underfit? Explain: Balanced\n",
    "\n",
    "Adding Age\n",
    "\n",
    "Did adding age improve the model: Yes, but minimal effect on the model.\n",
    "Propose a possible explanation (consider how age might affect ticket price, and whether the data supports that): Age alone doesn’t have a strong correlation with fare because ticket price is likely influenced by class, destination, and purchasing power rather than just age.\n",
    "\n",
    "Worst\n",
    "\n",
    "Which case performed the worst: Age only\n",
    "How do you know: \n",
    "Do you think adding more training data would improve it (and why/why not): \n",
    "Best\n",
    "\n",
    "Which case performed the best: Age and Pclass\n",
    "How do you know: High R^2\n",
    "Do you think adding more training data would improve it (and why/why not): "
   ]
  }
 ],
 "metadata": {
  "kernelspec": {
   "display_name": ".venv",
   "language": "python",
   "name": "python3"
  },
  "language_info": {
   "codemirror_mode": {
    "name": "ipython",
    "version": 3
   },
   "file_extension": ".py",
   "mimetype": "text/x-python",
   "name": "python",
   "nbconvert_exporter": "python",
   "pygments_lexer": "ipython3",
   "version": "3.9.6"
  }
 },
 "nbformat": 4,
 "nbformat_minor": 2
}
